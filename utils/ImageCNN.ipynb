{
 "cells": [
  {
   "cell_type": "code",
   "execution_count": 2,
   "id": "e28f6214-ada4-4bbe-ab7e-137377f1bd5a",
   "metadata": {},
   "outputs": [
    {
     "name": "stdout",
     "output_type": "stream",
     "text": [
      "Currently Loaded Modulefiles:\n",
      "  1) shared                      5) cudnn/7.4.2\n",
      "  2) slurm/19.05.3               6) cuda10.1/toolkit/10.1.243\n",
      "  3) openmpi/gcc/64/1.10.3       7) R/4.1.0\n",
      "  4) default-environment\n",
      "/home/tntech.edu/kebrown46/dissertation_code\n"
     ]
    }
   ],
   "source": [
    "%cd ~/dissertation_code\n",
    "import sys\n",
    "sys.path.append(\"utils\")\n",
    "import data\n",
    "import KerasNNs as kn\n"
   ]
  },
  {
   "cell_type": "code",
   "execution_count": 3,
   "id": "c0858a89-17bb-49b2-8eb9-26b85ce9b2b1",
   "metadata": {},
   "outputs": [
    {
     "name": "stdout",
     "output_type": "stream",
     "text": [
      "Found 28100 files belonging to 2 classes.\n",
      "Using 19670 files for training.\n",
      "Using 8430 files for validation.\n"
     ]
    },
    {
     "name": "stderr",
     "output_type": "stream",
     "text": [
      "2023-04-30 12:22:53.613096: W tensorflow/core/common_runtime/gpu/gpu_device.cc:1956] Cannot dlopen some GPU libraries. Please make sure the missing libraries mentioned above are installed properly if you would like to use GPU. Follow the guide at https://www.tensorflow.org/install/gpu for how to download and setup the required libraries for your platform.\n",
      "Skipping registering GPU devices...\n"
     ]
    },
    {
     "name": "stdout",
     "output_type": "stream",
     "text": [
      "Found 7026 files belonging to 2 classes.\n"
     ]
    }
   ],
   "source": [
    "train, val, test = data.read_image_data(dataset=\"diabetic_retinopathy\")\n"
   ]
  },
  {
   "cell_type": "code",
   "execution_count": null,
   "id": "3246c808-01f3-4609-b3b7-b48baeb6673e",
   "metadata": {},
   "outputs": [
    {
     "name": "stdout",
     "output_type": "stream",
     "text": [
      "Epoch 1/10\n"
     ]
    },
    {
     "name": "stderr",
     "output_type": "stream",
     "text": [
      "2023-04-30 12:21:13.934811: I tensorflow/core/common_runtime/executor.cc:1197] [/device:CPU:0] (DEBUG INFO) Executor start aborting (this does not indicate an error and you can ignore this message): INVALID_ARGUMENT: You must feed a value for placeholder tensor 'Placeholder/_4' with dtype int32 and shape [19670]\n",
      "\t [[{{node Placeholder/_4}}]]\n",
      "2023-04-30 12:21:13.935593: I tensorflow/core/common_runtime/executor.cc:1197] [/device:CPU:0] (DEBUG INFO) Executor start aborting (this does not indicate an error and you can ignore this message): INVALID_ARGUMENT: You must feed a value for placeholder tensor 'Placeholder/_0' with dtype string and shape [19670]\n",
      "\t [[{{node Placeholder/_0}}]]\n"
     ]
    }
   ],
   "source": [
    "cnn = kn.fit_image_CNN(train, val, \"diabetic_retinopathy\")\n"
   ]
  },
  {
   "cell_type": "code",
   "execution_count": null,
   "id": "297672d8-33e6-4be6-911a-d791f69ee2e1",
   "metadata": {},
   "outputs": [],
   "source": [
    "print(cnn.evaluate(test))"
   ]
  }
 ],
 "metadata": {
  "kernelspec": {
   "display_name": "Python 3 (ipykernel)",
   "language": "python",
   "name": "python3"
  },
  "language_info": {
   "codemirror_mode": {
    "name": "ipython",
    "version": 3
   },
   "file_extension": ".py",
   "mimetype": "text/x-python",
   "name": "python",
   "nbconvert_exporter": "python",
   "pygments_lexer": "ipython3",
   "version": "3.8.15"
  }
 },
 "nbformat": 4,
 "nbformat_minor": 5
}
